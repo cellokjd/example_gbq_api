{
 "cells": [
  {
   "cell_type": "code",
   "execution_count": 50,
   "metadata": {},
   "outputs": [],
   "source": [
    "import pandas as pd\n",
    "from google.cloud import bigquery\n",
    "from google.cloud import bigquery_datatransfer"
   ]
  },
  {
   "cell_type": "code",
   "execution_count": 51,
   "metadata": {},
   "outputs": [],
   "source": [
    "client = bigquery.Client()"
   ]
  },
  {
   "cell_type": "code",
   "execution_count": 68,
   "metadata": {},
   "outputs": [],
   "source": [
    "query = (\n",
    "    'SELECT * FROM `dataset_TIST2015.results_all_users` '\n",
    "    'WHERE int64_field_0 = 1 '\n",
    "    'LIMIT 100')"
   ]
  },
  {
   "cell_type": "code",
   "execution_count": 69,
   "metadata": {},
   "outputs": [],
   "source": [
    "query_job = client.query(\n",
    "    query,\n",
    "    # Location must match that of the dataset(s) referenced in the query.\n",
    "    location='US')  # API request - starts the query"
   ]
  },
  {
   "cell_type": "code",
   "execution_count": 71,
   "metadata": {},
   "outputs": [
    {
     "name": "stdout",
     "output_type": "stream",
     "text": [
      "49c046f1f964a5205b551fe3 : Airport Terminal : US\n",
      "4b22dbdaf964a520ef4e24e3 : Arts & Crafts Store : US\n",
      "4b60a34af964a520adf129e3 : Paper / Office Supplies Store : US\n",
      "4b85300ff964a520f34f31e3 : Bus Line : US\n",
      "4ba644fdf964a520f24039e3 : Pet Store : US\n",
      "4c83a09774d7b60c60218bd8 : Automotive Shop : US\n",
      "4c83a09774d7b60c60218bd8 : Automotive Shop : US\n",
      "4c83a09774d7b60c60218bd8 : Automotive Shop : US\n",
      "4c83a09774d7b60c60218bd8 : Automotive Shop : US\n",
      "4c83a09774d7b60c60218bd8 : Automotive Shop : US\n",
      "4c83a09774d7b60c60218bd8 : Automotive Shop : US\n",
      "4c83a09774d7b60c60218bd8 : Automotive Shop : US\n",
      "4c83a09774d7b60c60218bd8 : Automotive Shop : US\n",
      "4c83a09774d7b60c60218bd8 : Automotive Shop : US\n",
      "4c83a09774d7b60c60218bd8 : Automotive Shop : US\n",
      "4c83a09774d7b60c60218bd8 : Automotive Shop : US\n",
      "4c83a09774d7b60c60218bd8 : Automotive Shop : US\n",
      "4c83a09774d7b60c60218bd8 : Automotive Shop : US\n",
      "4c83a09774d7b60c60218bd8 : Automotive Shop : US\n",
      "4c83a09774d7b60c60218bd8 : Automotive Shop : US\n",
      "4c83a09774d7b60c60218bd8 : Automotive Shop : US\n",
      "4c83a09774d7b60c60218bd8 : Automotive Shop : US\n",
      "4c83a09774d7b60c60218bd8 : Automotive Shop : US\n",
      "4c83a09774d7b60c60218bd8 : Automotive Shop : US\n",
      "4c83a09774d7b60c60218bd8 : Automotive Shop : US\n",
      "4c83a09774d7b60c60218bd8 : Automotive Shop : US\n",
      "4c83a09774d7b60c60218bd8 : Automotive Shop : US\n",
      "4c83a09774d7b60c60218bd8 : Automotive Shop : US\n",
      "4c83a09774d7b60c60218bd8 : Automotive Shop : US\n",
      "4c83a09774d7b60c60218bd8 : Automotive Shop : US\n",
      "4c83a09774d7b60c60218bd8 : Automotive Shop : US\n",
      "4c83a09774d7b60c60218bd8 : Automotive Shop : US\n",
      "4c83a09774d7b60c60218bd8 : Automotive Shop : US\n",
      "4c96f10af244b1f7bbc8381d : Laundry Service : US\n",
      "4cab15d476d3a093b1c5286b : Playground : US\n",
      "4cab15d476d3a093b1c5286b : Playground : US\n",
      "4cab15d476d3a093b1c5286b : Playground : US\n",
      "4cab15d476d3a093b1c5286b : Playground : US\n",
      "4cdaf5424006a143c63fd5b2 : Arts & Crafts Store : US\n",
      "4d22231ff7a9a143a1903c9f : Fire Station : US\n",
      "4d6fb0440187236a81a19fba : Food Truck : US\n",
      "4d9b039403d8721e0356dd24 : Bar : US\n",
      "4de544ad1f6e9d90c7d7d8cb : Automotive Shop : US\n",
      "4dfcf67a183853f2cb529325 : Miscellaneous Shop : US\n",
      "4dfcf67a183853f2cb529325 : Miscellaneous Shop : US\n",
      "4e0ddd8cc65ba20da21a24c8 : Medical Center : US\n",
      "4e362d112271b2cf067fd9b2 : Racetrack : US\n",
      "4e362d112271b2cf067fd9b2 : Racetrack : US\n",
      "4e753db3c65bb91db4493d78 : Bar : US\n",
      "4e753db3c65bb91db4493d78 : Bar : US\n",
      "4e753db3c65bb91db4493d78 : Bar : US\n",
      "4e753db3c65bb91db4493d78 : Bar : US\n",
      "4e753db3c65bb91db4493d78 : Bar : US\n",
      "4ea322c0e5facb29c7924f5c : German Restaurant : US\n",
      "4ef54ace2c5b6efc37ed7e63 : Ice Cream Shop : US\n",
      "4f29cebeaad2efd933960ae5 : Lingerie Store : US\n",
      "4f2c144cf6900db03b6cf76f : Cosmetics Shop : US\n",
      "4f5b65c2e4b026f4c53ec46f : Doctor's Office : US\n",
      "502674c8e4b0c75a156a06ae : Automotive Shop : US\n",
      "502674c8e4b0c75a156a06ae : Automotive Shop : US\n",
      "502674c8e4b0c75a156a06ae : Automotive Shop : US\n",
      "502674c8e4b0c75a156a06ae : Automotive Shop : US\n",
      "4b74897ff964a5208ae22de3 : Library : US\n",
      "4b979487f964a520db0935e3 : Drugstore / Pharmacy : US\n",
      "4b979487f964a520db0935e3 : Drugstore / Pharmacy : US\n",
      "4c050c95f56c2d7f55071f66 : Post Office : US\n",
      "4c06e7658a81c9b67b782690 : Liquor Store : US\n",
      "4c83a09774d7b60c60218bd8 : Automotive Shop : US\n",
      "4c83a09774d7b60c60218bd8 : Automotive Shop : US\n",
      "4c83a09774d7b60c60218bd8 : Automotive Shop : US\n",
      "4c83a09774d7b60c60218bd8 : Automotive Shop : US\n",
      "4c83a09774d7b60c60218bd8 : Automotive Shop : US\n",
      "4c83a09774d7b60c60218bd8 : Automotive Shop : US\n",
      "4debc55145dd3993a8ae3145 : American Restaurant : US\n",
      "4dfcf67a183853f2cb529325 : Miscellaneous Shop : US\n",
      "4e418a277d8bf27c0ac0aa83 : Doctor's Office : US\n",
      "4e418a277d8bf27c0ac0aa83 : Doctor's Office : US\n",
      "4e418a277d8bf27c0ac0aa83 : Doctor's Office : US\n",
      "4e418a277d8bf27c0ac0aa83 : Doctor's Office : US\n",
      "4e753db3c65bb91db4493d78 : Bar : US\n",
      "4e753db3c65bb91db4493d78 : Bar : US\n",
      "4e753db3c65bb91db4493d78 : Bar : US\n",
      "4e753db3c65bb91db4493d78 : Bar : US\n",
      "4e753db3c65bb91db4493d78 : Bar : US\n",
      "4fea8c62e4b0e0e41a2984c6 : Moving Target : US\n",
      "4fea8c62e4b0e0e41a2984c6 : Moving Target : US\n",
      "4fea8c62e4b0e0e41a2984c6 : Moving Target : US\n",
      "502674c8e4b0c75a156a06ae : Automotive Shop : US\n",
      "502674c8e4b0c75a156a06ae : Automotive Shop : US\n",
      "502674c8e4b0c75a156a06ae : Automotive Shop : US\n",
      "502674c8e4b0c75a156a06ae : Automotive Shop : US\n",
      "502674c8e4b0c75a156a06ae : Automotive Shop : US\n",
      "502674c8e4b0c75a156a06ae : Automotive Shop : US\n",
      "502674c8e4b0c75a156a06ae : Automotive Shop : US\n",
      "502674c8e4b0c75a156a06ae : Automotive Shop : US\n",
      "502674c8e4b0c75a156a06ae : Automotive Shop : US\n",
      "502674c8e4b0c75a156a06ae : Automotive Shop : US\n",
      "502674c8e4b0c75a156a06ae : Automotive Shop : US\n",
      "502674c8e4b0c75a156a06ae : Automotive Shop : US\n",
      "502674c8e4b0c75a156a06ae : Automotive Shop : US\n"
     ]
    }
   ],
   "source": [
    "for row in query_job:  # API request - fetches results\n",
    "    # Row values can be accessed by field name or index\n",
    "    print(\"{} : {} : {}\".format(row.string_field_1, row.string_field_3, row.string_field_4))"
   ]
  },
  {
   "cell_type": "code",
   "execution_count": 63,
   "metadata": {},
   "outputs": [
    {
     "name": "stdout",
     "output_type": "stream",
     "text": [
      "<google.cloud.bigquery.client.Client object at 0x114e3f1d0>\n"
     ]
    }
   ],
   "source": [
    "print(client)"
   ]
  },
  {
   "cell_type": "code",
   "execution_count": null,
   "metadata": {},
   "outputs": [],
   "source": []
  }
 ],
 "metadata": {
  "kernelspec": {
   "display_name": "Python 3",
   "language": "python",
   "name": "python3"
  },
  "language_info": {
   "codemirror_mode": {
    "name": "ipython",
    "version": 3
   },
   "file_extension": ".py",
   "mimetype": "text/x-python",
   "name": "python",
   "nbconvert_exporter": "python",
   "pygments_lexer": "ipython3",
   "version": "3.6.3"
  }
 },
 "nbformat": 4,
 "nbformat_minor": 2
}
